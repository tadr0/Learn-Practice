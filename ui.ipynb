{
 "cells": [
  {
   "cell_type": "code",
   "execution_count": 24,
   "metadata": {
    "collapsed": true
   },
   "outputs": [],
   "source": [
    "from pprint import pprint\n",
    "from partitions import PartitionTable\n",
    "from edit import rsync, edit_files, grub_install"
   ]
  },
  {
   "cell_type": "code",
   "execution_count": 25,
   "metadata": {},
   "outputs": [
    {
     "name": "stdout",
     "output_type": "stream",
     "text": [
      "\n",
      "Partition Table:\n",
      "  H /dev/sda1 vfat B0E0-D39 /boot/efi\n",
      "  H /dev/sda2 ext4 64a6e752 /\n",
      "  H /dev/sda3 zfs_ 14080253 None\n",
      "  H /dev/sdb1 swap ccf03a1b None\n",
      "  H /dev/sdb2 zfs_ 14080253 None\n",
      "  H /dev/sdc1 vfat 75C9-087 /mnt/sdc2/boot/efi\n",
      "  H /dev/sdc2 ext4 029eb40a /mnt/sdc2\n"
     ]
    }
   ],
   "source": [
    "partition_table = PartitionTable()\n",
    "print(partition_table)"
   ]
  },
  {
   "cell_type": "code",
   "execution_count": 26,
   "metadata": {},
   "outputs": [
    {
     "name": "stdout",
     "output_type": "stream",
     "text": [
      "sources\n",
      "{'/': <partitions.DiskPart object at 0x7f06380da5f8>,\n",
      " '/boot/efi': <partitions.DiskPart object at 0x7f06380466d8>}\n",
      "\n",
      "dests\n",
      "OrderedDict([('/mnt/sdc2', <partitions.DiskPart object at 0x7f06380da7b8>),\n",
      "             ('/mnt/sdc2/boot/efi',\n",
      "              <partitions.DiskPart object at 0x7f06380da9b0>)])\n"
     ]
    }
   ],
   "source": [
    "partition_table.find_source_disk()\n",
    "print('sources')\n",
    "pprint(partition_table.sources)\n",
    "partition_table.find_dest_disk()\n",
    "print('\\ndests')\n",
    "pprint(partition_table.dests)\n"
   ]
  },
  {
   "cell_type": "code",
   "execution_count": 27,
   "metadata": {},
   "outputs": [
    {
     "name": "stdout",
     "output_type": "stream",
     "text": [
      "\n",
      "Partition Table:\n",
      "  H /dev/sda1 vfat B0E0-D39 /boot/efi\n",
      "  H /dev/sda2 ext4 64a6e752 /\n",
      "  H /dev/sda3 zfs_ 14080253 None\n",
      "  H /dev/sdb1 swap ccf03a1b None\n",
      "  H /dev/sdb2 zfs_ 14080253 None\n",
      "  H /dev/sdc1 vfat 75C9-087 /mnt/sdc2/boot/efi\n",
      "  H /dev/sdc2 ext4 029eb40a /mnt/sdc2\n"
     ]
    }
   ],
   "source": [
    "partition_table.mount_dest_disk()\n",
    "print(partition_table)"
   ]
  },
  {
   "cell_type": "code",
   "execution_count": 28,
   "metadata": {},
   "outputs": [
    {
     "name": "stdout",
     "output_type": "stream",
     "text": [
      "rsync: cmd = rsync -a --one-file-system --delete --exclude EFI/tools /boot/efi/ /mnt/sdc2/boot/efi/\n",
      "[b'']\n",
      "rsync: cmd = rsync -a --one-file-system --delete --exclude tmp/* --exclude var/log/* / /mnt/sdc2/\n",
      "[b'']\n"
     ]
    }
   ],
   "source": [
    "rsync(partition_table)\n",
    "edit_files(partition_table)"
   ]
  },
  {
   "cell_type": "code",
   "execution_count": 29,
   "metadata": {},
   "outputs": [
    {
     "name": "stdout",
     "output_type": "stream",
     "text": [
      "\n"
     ]
    }
   ],
   "source": [
    "print()"
   ]
  },
  {
   "cell_type": "code",
   "execution_count": 31,
   "metadata": {},
   "outputs": [
    {
     "name": "stdout",
     "output_type": "stream",
     "text": [
      "None\n"
     ]
    }
   ],
   "source": [
    "print(grub_install(partition_table))"
   ]
  },
  {
   "cell_type": "code",
   "execution_count": null,
   "metadata": {
    "collapsed": true
   },
   "outputs": [],
   "source": []
  }
 ],
 "metadata": {
  "kernelspec": {
   "display_name": "Python 3",
   "language": "python",
   "name": "python3"
  },
  "language_info": {
   "codemirror_mode": {
    "name": "ipython",
    "version": 3
   },
   "file_extension": ".py",
   "mimetype": "text/x-python",
   "name": "python",
   "nbconvert_exporter": "python",
   "pygments_lexer": "ipython3",
   "version": "3.6.3"
  }
 },
 "nbformat": 4,
 "nbformat_minor": 2
}
